{
 "cells": [
  {
   "cell_type": "markdown",
   "metadata": {},
   "source": [
    "Demonstração da execução do código, com um treinamento seguido de dois testes de validação."
   ]
  },
  {
   "cell_type": "code",
   "execution_count": 1,
   "metadata": {},
   "outputs": [],
   "source": [
    "import numpy as np\n",
    "import imageio"
   ]
  },
  {
   "cell_type": "code",
   "execution_count": 2,
   "metadata": {},
   "outputs": [],
   "source": [
    "# Funcao que ajusta a resolucao da imagem para o padrao de 800x400 pixels\n",
    "def adjust_resolution(img):\n",
    "    x,y = np.shape(img)\n",
    "    #casos em que x ou y da imagem eh maior que o padrao, realiza um slice para o tamanho adequado\n",
    "    if x > 800:\n",
    "        img = img[0:800, :]\n",
    "    if y > 400:\n",
    "        img = img[:, 0:400]\n",
    "\n",
    "    #Cria-se uma matriz com essas dimensoes e soma-se com matriz menor que\n",
    "    #representa a imagem, gerando uma nova matriz com 800x400\n",
    "    img2 = np.zeros((800,400), dtype=np.float32)\n",
    "    img2[:x, :y] += img\n",
    "\n",
    "    return img2"
   ]
  },
  {
   "cell_type": "code",
   "execution_count": 3,
   "metadata": {},
   "outputs": [],
   "source": [
    "#   Funcao para transformar imagem RGB em GRAYSCALE\n",
    "def RGBtoGrayscale(RGB):\n",
    "\n",
    "    # divide a imagem nos 3 canais de cores\n",
    "    R = RGB[:,:,0].astype(np.float32)\n",
    "    G = RGB[:,:,1].astype(np.float32)\n",
    "    B = RGB[:,:,2].astype(np.float32)\n",
    "\n",
    "    # formula para realizar a conversao\n",
    "    gray = 0.2989 * R + 0.5870 * G + 0.1140 * B\n",
    "    # retorna a matriz normalizada\n",
    "    return ((gray/np.max(gray)) * 255).astype(np.uint8);"
   ]
  },
  {
   "cell_type": "code",
   "execution_count": 4,
   "metadata": {},
   "outputs": [],
   "source": [
    "#Funcao para transformar imagem RGB em uma imagem binaria,\n",
    "#levando em consideracao os 75% pixels de maior magnitude.\n",
    "def RGBtoBinary(InputImg):\n",
    "    # Converte a imagem para gray scale\n",
    "    GrayImg = RGBtoGrayscale(InputImg)\n",
    "    # retorna a imagem binaria\n",
    "    BinImg = np.less(GrayImg, 0.75 * np.max(GrayImg)) * 1\n",
    "    return BinImg.astype(np.uint8)"
   ]
  },
  {
   "cell_type": "code",
   "execution_count": 5,
   "metadata": {},
   "outputs": [],
   "source": [
    "#   Funcao que calcula numero de transicoes (0 para 1 ou 1 para 0) entre os pixels vizinhos de um pixel central\n",
    "def pixel_transitions(neib):\n",
    "    # cria um array que contem os vizinhos do pixel central em ordem circular horaria\n",
    "    arr = np.append(np.append(neib[0,:], neib[1,2]), np.append(neib[2,::-1], neib[1,0]))\n",
    "    sumTrans = 0\n",
    "    # percorre o array somando em um contador de numero de transicoes\n",
    "    for i in np.arange(8):\n",
    "        if(i < 7 and arr[i] != arr[i+1]):\n",
    "            sumTrans += 1\n",
    "\n",
    "    if(arr[7] != arr[0]):\n",
    "        sumTrans += 1\n",
    "\n",
    "    # retorna metade do numero de transicoes\n",
    "    return np.ceil(sumTrans/2)"
   ]
  },
  {
   "cell_type": "code",
   "execution_count": 6,
   "metadata": {},
   "outputs": [],
   "source": [
    "#   Funcao que realiza a esqueletizacao utilizando a tecnica de\n",
    "#thinning, a partir do processo morfologico de erosao.\n",
    "def thinning(Img):\n",
    "\n",
    "    imgPad = np.pad(Img, (1, 1), mode='constant') #zero padding\n",
    "    x, y = np.shape(Img)\n",
    "    flag = True\n",
    "\n",
    "    # realiza o algoritmo enquanto ainda houverem pixels a serem removidos, o que\n",
    "    # eh indicado pela 'flag'\n",
    "    while(flag):\n",
    "        flag = False\n",
    "        # mascara de booleanos em que os pixels identificados com 'false' serao\n",
    "        #retirados no fim da iteracao\n",
    "        mask = np.ones((x + 2, y + 2), dtype=bool)\n",
    "\n",
    "        for i in np.arange(1, x):\n",
    "            for j in np.arange(1, y):\n",
    "                if(imgPad[i, j] == 1):\n",
    "                    neib = imgPad[i-1:i+2, j-1:j+2]\n",
    "                    sumNeib = np.sum(neib) - 1\n",
    "                    # caso nao entre no 'if', nao existem mais pixels a serem processados\n",
    "                    if((sumNeib > 1 and sumNeib < 7) and pixel_transitions(neib)== 1):\n",
    "                        mask[i, j] = False\n",
    "                        flag = True\n",
    "        imgPad = np.multiply(mask, imgPad)\n",
    "\n",
    "    # retorna a imagem (com o pad) gerada pelo algoritmo\n",
    "    return imgPad"
   ]
  },
  {
   "cell_type": "code",
   "execution_count": 7,
   "metadata": {},
   "outputs": [],
   "source": [
    "# Funcao que extrai caracteristicas de orientacao local, isto eh, em uma janela\n",
    "# de dimensoes menores que a imagem. Nesse caso, todas as janelas serao de 25x10.\n",
    "# Para isso, calcula-se a quantidade de pixels em cada uma das 4 direcoes:\n",
    "# horizontal - x, vertical - y, diagonal - d, diagonal invertida - di\n",
    "def extract_orientation_local(img):\n",
    "    x,y = np.shape(img)\n",
    "    # cria uma lista para cada direcao\n",
    "    Dx = []\n",
    "    Dy = []\n",
    "    Dd = []\n",
    "    Di = []\n",
    "    npixels = 0\n",
    "    # Para cada pixel, Verifica se eh um pixel com valor 1 e em qual direcao\n",
    "    # ele esta, em relacao ao anterior e adiciona na lista da orientacao\n",
    "    for i in np.arange(x):\n",
    "        for j in np.arange(y):\n",
    "            if img[i, j] == 1:\n",
    "                npixels += 1\n",
    "                if i > 0 and img[i - 1, j] == 1: # direcao horizontal\n",
    "                    Dx.append(1)\n",
    "                else:\n",
    "                    Dx.append(0)\n",
    "\n",
    "                if j > 0 and img[i, j - 1] == 1: # direcao vertical\n",
    "                    Dy.append(1)\n",
    "                else:\n",
    "                    Dy.append(0)\n",
    "\n",
    "                if i > 0 and j < y-1 and img[i - 1, j + 1] == 1: # direcao diagonal\n",
    "                    Dd.append(1)\n",
    "                else:\n",
    "                    Dd.append(0)\n",
    "\n",
    "                if i > 0 and j > 0 and img[i - 1, j - 1] == 1: # direcao diagonal invertida\n",
    "                    Di.append(1)\n",
    "                else:\n",
    "                    Di.append(0)\n",
    "\n",
    "    # caso o numero de pixels 1 na janela seja maior que zero, calcula-se o desvio padrao\n",
    "    # para cada orientacao\n",
    "    if npixels > 0:\n",
    "        stdX = np.std(Dx)\n",
    "        stdY = np.std(Dy)\n",
    "        stdD = np.std(Dd)\n",
    "        stdI = np.std(Di)\n",
    "\n",
    "    else:\n",
    "        stdX = 0\n",
    "        stdY = 0\n",
    "        stdD = 0\n",
    "        stdI = 0\n",
    "\n",
    "    # realiza o tratamento estatistico, normalizando os valores de cada orientacao\n",
    "    # utilizando a distribuicao normal\n",
    "    if stdX == 0:\n",
    "        zx = 0\n",
    "    else:\n",
    "        zx = (npixels - np.mean(Dx))/stdX\n",
    "\n",
    "    if stdY == 0:\n",
    "        zy = 0\n",
    "    else:\n",
    "        zy = (npixels - np.mean(Dy))/stdY\n",
    "\n",
    "    if stdD == 0:\n",
    "        zd = 0\n",
    "    else:\n",
    "        zd = (npixels - np.mean(Dd))/stdD\n",
    "\n",
    "    if stdI == 0:\n",
    "        zi = 0\n",
    "    else:\n",
    "        zi = (npixels - np.mean(Di))/stdI\n",
    "\n",
    "    # retorna uma lista com o valor calculado em cada direcao\n",
    "    return [zx, zy, zd, zi]"
   ]
  },
  {
   "cell_type": "code",
   "execution_count": 8,
   "metadata": {},
   "outputs": [],
   "source": [
    "# Funcao que extrai as caracteristicas de orientacoes da imagem, por meio do modulo\n",
    "# dos vetores em cada direcao para cada janela, isto eh, vizinhanca local\n",
    "def extract_orientation(img):\n",
    "    x,y = img.shape\n",
    "\n",
    "    # cria vetores para cada uma das 4 orientacoes,\n",
    "    # com o numero de posicoes igual ao numero de janelas\n",
    "    Zx = np.zeros(1280, dtype=np.float32)\n",
    "    Zy = np.zeros(1280, dtype=np.float32)\n",
    "    Zd = np.zeros(1280, dtype=np.float32)\n",
    "    Zi = np.zeros(1280, dtype=np.float32)\n",
    "\n",
    "    # Percorre as janelas, armazenando a caracteristica de orientacao de cada retina\n",
    "    k = 0\n",
    "    for i in range(0, x, 25):\n",
    "        for j in range(0, y, 10):\n",
    "            local = img[i:i+25, j:j+10]\n",
    "            r = extract_orientation_local(local)\n",
    "            Zx[k] = r[0]\n",
    "            Zy[k] = r[1]\n",
    "            Zd[k] = r[2]\n",
    "            Zi[k] = r[3]\n",
    "            k += 1\n",
    "\n",
    "    # Calcula o modulo do vetor orientacao\n",
    "    modZx = np.sqrt(np.sum(np.power(Zx,2)))\n",
    "    modZy = np.sqrt(np.sum(np.power(Zy,2)))\n",
    "    modZd = np.sqrt(np.sum(np.power(Zd,2)))\n",
    "    modZi = np.sqrt(np.sum(np.power(Zi,2)))\n",
    "\n",
    "    # retorna o vetor Z que representa a estatistica dos vetores de orientacao em todas as janelas\n",
    "    Z = [modZx, modZy, modZd, modZi]\n",
    "    return Z"
   ]
  },
  {
   "cell_type": "code",
   "execution_count": 9,
   "metadata": {},
   "outputs": [],
   "source": [
    "#   Funcao que calcula a media e o desvio padrao dos dados obtidos de todas as retinas de\n",
    "# todas as imagens, organizando-as em um vetor que sera retornado para que os dados\n",
    "# sejam salvos em disco.\n",
    "def statistical_analysis(Zxi, Zyi, Zdi, Zii):\n",
    "    #calculo da media para cada um das orientacoes\n",
    "    meanZx = np.mean(Zxi)\n",
    "    meanZy = np.mean(Zyi)\n",
    "    meanZd = np.mean(Zdi)\n",
    "    meanZi = np.mean(Zii)\n",
    "\n",
    "    #calculo do desvio padrao para cada uma das orientacoes\n",
    "    stdZx = np.std(Zxi)\n",
    "    stdZy = np.std(Zyi)\n",
    "    stdZd = np.std(Zdi)\n",
    "    stdZi = np.std(Zii)\n",
    "\n",
    "    Prob = [meanZx, stdZx, meanZy, stdZy, meanZd, stdZd, meanZi, stdZi]\n",
    "    return Prob"
   ]
  },
  {
   "cell_type": "code",
   "execution_count": 10,
   "metadata": {},
   "outputs": [],
   "source": [
    "#  Funcao que realiza a comparacao do vetor Z resultante da extracao de caracteristicas\n",
    "# da imagem de entrada com os dados armazenados no vetor \"escritores.npy\". Verifica se\n",
    "# a variacao entre esses valores eh menor do que 95% do intervalo do desvio padrao em cada uma das orientacoes. Caso\n",
    "# seja em 4 ou 3 orientacoes, a assinatura e valida. Com apenas 2, considera-se resultado\n",
    "# inconclusivo (assinatura Indefinida), e menor do que 2 e considerado invalida.\n",
    "def compare(Z, p):\n",
    "    flag = 0\n",
    "    if Z[0] <= p[0] + p[1]*0.95 and Z[0] >= p[0] - p[1]*0.95:\n",
    "        flag += 1\n",
    "    if Z[1] <= p[2] + p[3]*0.95 and Z[1] >= p[2] - p[3]*0.95:\n",
    "        flag += 1\n",
    "    if Z[2] <= p[4] + p[5]*0.95 and Z[2] >= p[4] - p[5]*0.95:\n",
    "        flag += 1\n",
    "    if Z[3] <= p[6] + p[7]*0.95 and Z[3] >= p[6] - p[7]*0.95:\n",
    "        flag += 1\n",
    "\n",
    "    if flag > 2:\n",
    "        print(\"Assinatura Valida.\")\n",
    "    elif flag < 2:\n",
    "        print(\"Assinatura Invalida.\")\n",
    "    else:\n",
    "        print(\"Assinatura Indefinida.\")"
   ]
  },
  {
   "cell_type": "markdown",
   "metadata": {},
   "source": [
    "Exemplo de execução de treinamento"
   ]
  },
  {
   "cell_type": "code",
   "execution_count": 11,
   "metadata": {},
   "outputs": [
    {
     "name": "stdout",
     "output_type": "stream",
     "text": [
      "flavio\n",
      "30\n",
      "flavio\n",
      "Treinamento Concluido\n"
     ]
    }
   ],
   "source": [
    "#MAIN\n",
    "# nome do arquivo, caso seja um caso teste. Nome inicial dos arquivos caso seja caso de treinamento\n",
    "InputImgName = str(input()).strip(\"\\n\\r\")\n",
    "i = int(input())                  # numero de imagens para treinamento ou 0 para teste\n",
    "name = str(input()).strip(\"\\n\\r\") # nome do escritor\n",
    "\n",
    "Zxi = []\n",
    "Zyi = []\n",
    "Zdi = []\n",
    "Zii = []\n",
    "\n",
    "#caso de treinamento\n",
    "if i > 0:\n",
    "    for k in range(i):\n",
    "        imgName = InputImgName + \" (\" + str(k) +\")\" + \".jpeg\"\n",
    "        #pre processamento\n",
    "        InputImg = imageio.imread(imgName)\n",
    "        BinImage = RGBtoBinary(InputImg)\n",
    "        ThinImage = thinning(BinImage)\n",
    "        ThinImage = adjust_resolution(ThinImage)\n",
    "\n",
    "        #extracao de caracteristicas\n",
    "        Z = extract_orientation(ThinImage)\n",
    "        Zxi.append(Z[0])\n",
    "        Zyi.append(Z[1])\n",
    "        Zdi.append(Z[2])\n",
    "        Zii.append(Z[3])\n",
    "\n",
    "    #analise estatistica do resultado\n",
    "    newProb = statistical_analysis(Zxi, Zyi, Zdi, Zii)\n",
    "\n",
    "    # Escrita em um arquivo\n",
    "    P = np.load(\"escritores.npy\")\n",
    "    nameList = np.load(\"nomeEscritores.npy\")\n",
    "\n",
    "    P = np.append(P, newProb)\n",
    "    nameList = np.append(nameList, name)\n",
    "\n",
    "    np.save(\"escritores.npy\", P)\n",
    "    np.save(\"nomeEscritores\", nameList)\n",
    "    print(\"Treinamento Concluido\")\n"
   ]
  },
  {
   "cell_type": "code",
   "execution_count": 12,
   "metadata": {},
   "outputs": [],
   "source": [
    "def teste():\n",
    "    InputImgName = str(input()).strip(\"\\n\\r\")\n",
    "    name = str(input()).strip(\"\\n\\r\")\n",
    "\n",
    "    InputImg = imageio.imread(InputImgName)\n",
    "    BinImage = RGBtoBinary(InputImg)\n",
    "    ThinImage = thinning(BinImage)\n",
    "    ThinImage = adjust_resolution(ThinImage)\n",
    "    Z = extract_orientation(ThinImage)\n",
    "\n",
    "    # Carrega as caracteristicas do escritor\n",
    "    p = np.load(\"escritores.npy\")\n",
    "    nameList = np.load(\"nomeEscritores.npy\")\n",
    "\n",
    "    tam = np.shape(nameList)[0] - 1\n",
    "    while(tam > 0 and nameList[tam] != name):\n",
    "        tam -= 1\n",
    "    # Se o escritor estava no arquivo, realiza a comparacao\n",
    "    if(nameList[tam] == name):\n",
    "        compare(Z, p[tam*8:tam*8+8])\n",
    "    else:\n",
    "        print(\"Escritor nao presente no conjunto de dados.\")"
   ]
  },
  {
   "cell_type": "markdown",
   "metadata": {},
   "source": [
    "Exemplo de execução do programa, verificando se a assinatura do escritor é válida para um exemplar que não foi utilizado no treinamento."
   ]
  },
  {
   "cell_type": "code",
   "execution_count": 13,
   "metadata": {},
   "outputs": [
    {
     "name": "stdout",
     "output_type": "stream",
     "text": [
      "flavio (31).jpeg\n",
      "flavio\n",
      "Assinatura Valida.\n"
     ]
    }
   ],
   "source": [
    "teste()"
   ]
  },
  {
   "cell_type": "markdown",
   "metadata": {},
   "source": [
    "Outro exemplo, mas verificando a assinatura de outro escritor, sendo o resultado esperado igual a inválido."
   ]
  },
  {
   "cell_type": "code",
   "execution_count": 14,
   "metadata": {},
   "outputs": [
    {
     "name": "stdout",
     "output_type": "stream",
     "text": [
      "caio (22).jpeg\n",
      "flavio\n",
      "Assinatura Invalida.\n"
     ]
    }
   ],
   "source": [
    "teste()"
   ]
  }
 ],
 "metadata": {
  "kernelspec": {
   "display_name": "Python 3",
   "language": "python",
   "name": "python3"
  },
  "language_info": {
   "codemirror_mode": {
    "name": "ipython",
    "version": 3
   },
   "file_extension": ".py",
   "mimetype": "text/x-python",
   "name": "python",
   "nbconvert_exporter": "python",
   "pygments_lexer": "ipython3",
   "version": "3.5.2"
  }
 },
 "nbformat": 4,
 "nbformat_minor": 2
}
